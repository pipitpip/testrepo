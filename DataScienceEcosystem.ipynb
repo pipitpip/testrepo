{
 "cells": [
  {
   "cell_type": "markdown",
   "id": "ae4a9465",
   "metadata": {},
   "source": [
    "# Data Science Tools and Ecosystem"
   ]
  },
  {
   "cell_type": "markdown",
   "id": "f47be8c7",
   "metadata": {},
   "source": [
    "In this notebook, Data Science Tools and Ecosystem are summarized.\n"
   ]
  },
  {
   "cell_type": "markdown",
   "id": "8587edc2",
   "metadata": {},
   "source": [
    "__Objectives:__\n",
    "+ List popular languages for Data Science\n",
    "+ Commonly used libraries used by Data Scientists\n",
    "+ Development environment open source tools used in data science\n"
   ]
  },
  {
   "cell_type": "markdown",
   "id": "65363f4d",
   "metadata": {},
   "source": [
    "Some of the popular languages that Data Scientists use are:\n",
    "1. Python\n",
    "2. R \n",
    "3. Julia\n",
    "4. Java\n",
    "5. C/C++\n",
    "6. SQL\n"
   ]
  },
  {
   "cell_type": "markdown",
   "id": "738473d4",
   "metadata": {},
   "source": [
    "Some of the commonly used libraries used by Data Scientists include:\n",
    "- NumPy\n",
    "- Pandas\n",
    "- Seaborn\n",
    "- TensorFlow"
   ]
  },
  {
   "cell_type": "markdown",
   "id": "d8d71cdf",
   "metadata": {},
   "source": [
    "\n",
    "| Data Science Tools |\n",
    "|--------------------|\n",
    "| Jupyter Notebooks | \n",
    "| Zeppelin Notebooks |  \n",
    "| R Studio |"
   ]
  },
  {
   "attachments": {},
   "cell_type": "markdown",
   "id": "6acdd9c8",
   "metadata": {},
   "source": [
    "### Below are a few examples of evaluating arithmetic expressions in Python"
   ]
  },
  {
   "cell_type": "code",
   "execution_count": 1,
   "id": "fae64cbf",
   "metadata": {},
   "outputs": [
    {
     "name": "stdout",
     "output_type": "stream",
     "text": [
      "17\n"
     ]
    }
   ],
   "source": [
    "# This a simple arithmetic expression to mutiply then add integers\n",
    "\n",
    "print ((3*4)+5)"
   ]
  },
  {
   "cell_type": "code",
   "execution_count": 7,
   "id": "3f8ef569",
   "metadata": {},
   "outputs": [
    {
     "name": "stdout",
     "output_type": "stream",
     "text": [
      "convert result is 3.3333333333333335 hours\n"
     ]
    }
   ],
   "source": [
    "# This will convert 200 minutes to hours by diving by 60\n",
    "duration_mins = 200\n",
    "an_hour = 60\n",
    "convert = duration_mins/an_hour\n",
    "print(\"convert result is\", convert, \"hours\" )"
   ]
  },
  {
   "cell_type": "markdown",
   "id": "2a20a7e7",
   "metadata": {},
   "source": [
    "## Author \n",
    "S Rosi"
   ]
  },
  {
   "cell_type": "code",
   "execution_count": null,
   "id": "11ddcc08",
   "metadata": {},
   "outputs": [],
   "source": []
  }
 ],
 "metadata": {
  "kernelspec": {
   "display_name": "Python 3 (ipykernel)",
   "language": "python",
   "name": "python3"
  },
  "language_info": {
   "codemirror_mode": {
    "name": "ipython",
    "version": 3
   },
   "file_extension": ".py",
   "mimetype": "text/x-python",
   "name": "python",
   "nbconvert_exporter": "python",
   "pygments_lexer": "ipython3",
   "version": "3.11.5"
  }
 },
 "nbformat": 4,
 "nbformat_minor": 5
}
